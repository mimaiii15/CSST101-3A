{
  "nbformat": 4,
  "nbformat_minor": 0,
  "metadata": {
    "colab": {
      "provenance": []
    },
    "kernelspec": {
      "name": "python3",
      "display_name": "Python 3"
    },
    "language_info": {
      "name": "python"
    }
  },
  "cells": [
    {
      "cell_type": "markdown",
      "source": [
        "# **Propositional Logic Operations**"
      ],
      "metadata": {
        "id": "R9sqB4KpgqCT"
      }
    },
    {
      "cell_type": "code",
      "execution_count": 8,
      "metadata": {
        "id": "c_aascONgSFg"
      },
      "outputs": [],
      "source": [
        "def and_operation(p, q):\n",
        "    \"\"\"Logical conjunction (AND).\"\"\"\n",
        "    return p and q\n",
        "\n",
        "def or_operation(p, q):\n",
        "    \"\"\"Logical disjunction (OR).\"\"\"\n",
        "    return p or q\n",
        "\n",
        "def not_operation(p):\n",
        "    \"\"\"Logical negation (NOT).\"\"\"\n",
        "    return not p\n",
        "\n",
        "def implies_operation(p, q):\n",
        "    \"\"\"Logical implication (IMPLIES).\"\"\"\n",
        "    return not p or q"
      ]
    },
    {
      "cell_type": "markdown",
      "source": [
        "# **Evaluate Logical Statements**"
      ],
      "metadata": {
        "id": "LreLnFSEgwky"
      }
    },
    {
      "cell_type": "code",
      "source": [
        "def evaluate(statement, values):\n",
        "    \"\"\"Evaluate a logical statement based on given truth values.\"\"\"\n",
        "\n",
        "    statement = statement.replace('AND', 'and').replace('OR', 'or').replace('NOT', 'not')\n",
        "    statement = statement.replace('(', ' ( ').replace(')', ' ) ')\n",
        "\n",
        "    tokens = statement.split()\n",
        "\n",
        "    stack = []\n",
        "\n",
        "    for token in tokens:\n",
        "        if token in values:\n",
        "            stack.append(values[token])\n",
        "        elif token == 'not':\n",
        "            stack.append(not stack.pop())\n",
        "        elif token in ['and', 'or']:\n",
        "            right = stack.pop()\n",
        "            left = stack.pop()\n",
        "            if token == 'and':\n",
        "                stack.append(left and right)\n",
        "            elif token == 'or':\n",
        "                stack.append(left or right)\n",
        "        else:\n",
        "            raise ValueError(f\"Unknown token: {token}\")\n",
        "\n",
        "    return stack[0] if stack else None"
      ],
      "metadata": {
        "id": "8KJUFH8xg2rC"
      },
      "execution_count": 9,
      "outputs": []
    },
    {
      "cell_type": "markdown",
      "source": [
        "### **Example Usage**"
      ],
      "metadata": {
        "id": "hZ5jXClYhARH"
      }
    },
    {
      "cell_type": "code",
      "source": [
        "def evaluate(statement, values):\n",
        "    \"\"\"Evaluate a logical statement based on given truth values.\"\"\"\n",
        "\n",
        "    statement = statement.replace('AND', ' and ').replace('OR', ' or ').replace('NOT', ' not ') # Add spaces around operators\n",
        "    statement = statement.replace('(', '( ').replace(')', ' ) ')\n",
        "\n",
        "    tokens = statement.split()\n",
        "\n",
        "    stack = []\n",
        "\n",
        "    for token in tokens:\n",
        "        if token in values:\n",
        "            stack.append(values[token])\n",
        "        elif token == 'not':\n",
        "            if stack: # Check if stack is not empty before popping\n",
        "                stack.append(not stack.pop())\n",
        "        elif token in ['and', 'or']:\n",
        "            if len(stack) >= 2: # Check if there are enough operands\n",
        "                right = stack.pop()\n",
        "                left = stack.pop()\n",
        "                if token == 'and':\n",
        "                    stack.append(left and right)\n",
        "                elif token == 'or':\n",
        "                    stack.append(left or right)\n",
        "        # Removed the else block as it was raising a ValueError for parentheses\n",
        "\n",
        "    return stack[0] if stack else None"
      ],
      "metadata": {
        "id": "b955IBgkg_Qj"
      },
      "execution_count": 10,
      "outputs": []
    },
    {
      "cell_type": "markdown",
      "source": [
        "# **Predicate Logic with Quantifiers**\n",
        "\n"
      ],
      "metadata": {
        "id": "Fh7FboQ6g7Ew"
      }
    },
    {
      "cell_type": "markdown",
      "source": [
        "1. Universal Quantifier (∀)\n",
        "The forall function checks if a given predicate holds true for all elements in a specified domain.\n",
        "2. Existential Quantifier (∃)\n",
        "The exists function checks if there is at least one element in the specified domain for which the predicate holds true.\n",
        "Implementation\n",
        "Here’s how you can implement these functions in Python:"
      ],
      "metadata": {
        "id": "R-cyGmuoj_fj"
      }
    },
    {
      "cell_type": "code",
      "source": [
        "def forall(predicate, domain):\n",
        "    \"\"\"Evaluate the universal quantifier (FOR ALL).\"\"\"\n",
        "    return all(predicate(x) for x in domain)\n",
        "\n",
        "def exists(predicate, domain):\n",
        "    \"\"\"Evaluate the existential quantifier (EXISTS).\"\"\"\n",
        "    return any(predicate(x) for x in domain)"
      ],
      "metadata": {
        "id": "NnYNFtO1hjIv"
      },
      "execution_count": 11,
      "outputs": []
    },
    {
      "cell_type": "markdown",
      "source": [
        "### **Example Usage of Quantifiers**"
      ],
      "metadata": {
        "id": "iv5BEhXkhmMy"
      }
    },
    {
      "cell_type": "code",
      "source": [
        "# Define a predicate function\n",
        "def is_even(x):\n",
        "    \"\"\"Predicate to check if a number is even.\"\"\"\n",
        "    return x % 2 == 0\n",
        "\n",
        "def is_positive(x):\n",
        "    \"\"\"Predicate to check if a number is positive.\"\"\"\n",
        "    return x > 0\n",
        "\n",
        "# Define a domain\n",
        "domain = range(-5, 6)  # Numbers from -5 to 5\n",
        "\n",
        "# Evaluate universal quantifier\n",
        "all_even = forall(is_even, domain)  # Should return False\n",
        "print(f\"All numbers are even: {all_even}\")\n",
        "\n",
        "# Evaluate existential quantifier\n",
        "any_even = exists(is_even, domain)  # Should return True\n",
        "print(f\"Any number is even: {any_even}\")\n",
        "\n",
        "# Evaluate universal quantifier for positive numbers\n",
        "all_positive = forall(is_positive, domain)  # Should return False\n",
        "print(f\"All numbers are positive: {all_positive}\")\n",
        "\n",
        "# Evaluate existential quantifier for positive numbers\n",
        "any_positive = exists(is_positive, domain)  # Should return True\n",
        "print(f\"Any number is positive: {any_positive}\")"
      ],
      "metadata": {
        "colab": {
          "base_uri": "https://localhost:8080/"
        },
        "id": "FRS9creMhl2H",
        "outputId": "e1d0aa71-51a9-42fa-cde3-5c54be2c2bba"
      },
      "execution_count": 12,
      "outputs": [
        {
          "output_type": "stream",
          "name": "stdout",
          "text": [
            "All numbers are even: False\n",
            "Any number is even: True\n",
            "All numbers are positive: False\n",
            "Any number is positive: True\n"
          ]
        }
      ]
    },
    {
      "cell_type": "markdown",
      "source": [
        "# **Conclusion**\n",
        "\n",
        "The forall and exists functions allow you to evaluate predicate logic statements efficiently over a specified domain. You can define any predicate function that takes a single argument and returns a boolean value, enabling you to check various conditions across different sets of data. This setup provides a flexible way to work with predicate logic in Python."
      ],
      "metadata": {
        "id": "_pZWrpLakHTN"
      }
    },
    {
      "cell_type": "markdown",
      "source": [
        "# **AI Agent Development**"
      ],
      "metadata": {
        "id": "FD4m-g1Glgwc"
      }
    },
    {
      "cell_type": "markdown",
      "source": [
        "The scenario involves a basic game where the AI agent must choose the best move based on the current state of the game. We will implement logical decision-making functions that the AI agent will use to determine its actions."
      ],
      "metadata": {
        "id": "JvuvdMzIliUS"
      }
    },
    {
      "cell_type": "markdown",
      "source": [
        "## **Scenario Definition**\n",
        "\n",
        "We will create a simple game where the AI agent has three possible moves:\n",
        "* Move Left\n",
        "* Move Right\n",
        "* Stay Still\n",
        "\n",
        "The decision of the AI agent will be based on the following environmental conditions:\n",
        "* Obstacle on the Left: If there is an obstacle on the left, the agent cannot move left.\n",
        "* Obstacle on the Right: If there is an obstacle on the right, the agent cannot move right.\n",
        "* Safety: If the agent is at a safe position, it can choose to stay still.\n",
        "\n",
        "## **Implementing the Decision Logic**\n",
        "\n",
        "We will implement the decision logic using Python functions. The AI agent will evaluate the conditions and choose the best move based on the logic defined."
      ],
      "metadata": {
        "id": "2tP0lQ1dlr3m"
      }
    },
    {
      "cell_type": "code",
      "source": [
        "class SimpleAIAgent:\n",
        "    def __init__(self):\n",
        "        pass\n",
        "\n",
        "    def decide_move(self, obstacle_left, obstacle_right, safe):\n",
        "        \"\"\"\n",
        "        Decide the best move based on the presence of obstacles and safety.\n",
        "\n",
        "        Parameters:\n",
        "        obstacle_left (bool): True if there is an obstacle on the left.\n",
        "        obstacle_right (bool): True if there is an obstacle on the right.\n",
        "        safe (bool): True if the agent is in a safe position.\n",
        "\n",
        "        Returns:\n",
        "        str: The chosen move.\n",
        "        \"\"\"\n",
        "        if not obstacle_left and not obstacle_right:\n",
        "            return \"Move Left\"  # Prefer moving left if both sides are clear\n",
        "        elif not obstacle_right:\n",
        "            return \"Move Right\"  # Move right if left is blocked\n",
        "        elif not obstacle_left:\n",
        "            return \"Move Left\"  # Move left if right is blocked\n",
        "        elif safe:\n",
        "            return \"Stay Still\"  # Stay still if both sides are blocked but safe\n",
        "        else:\n",
        "            return \"No Move Possible\"  # No valid move available\n",
        "\n",
        "# Example usage\n",
        "agent = SimpleAIAgent()\n",
        "\n",
        "# Test scenarios\n",
        "scenarios = [\n",
        "    (False, False, True),  # No obstacles, safe\n",
        "    (True, False, True),   # Obstacle on left, safe\n",
        "    (False, True, True),   # Obstacle on right, safe\n",
        "    (True, True, True),    # Obstacles on both sides, safe\n",
        "    (True, True, False)    # Obstacles on both sides, not safe\n",
        "]\n",
        "\n",
        "# Display the outcomes\n",
        "for i, (left, right, safe) in enumerate(scenarios):\n",
        "    move = agent.decide_move(left, right, safe)\n",
        "    print(f\"Scenario {i + 1}: Obstacle Left = {left}, Obstacle Right = {right}, Safe = {safe} => Move: {move}\")"
      ],
      "metadata": {
        "colab": {
          "base_uri": "https://localhost:8080/"
        },
        "id": "3tZGxw7vlPlG",
        "outputId": "68ded463-1335-43ed-aa57-9742b613edfd"
      },
      "execution_count": 13,
      "outputs": [
        {
          "output_type": "stream",
          "name": "stdout",
          "text": [
            "Scenario 1: Obstacle Left = False, Obstacle Right = False, Safe = True => Move: Move Left\n",
            "Scenario 2: Obstacle Left = True, Obstacle Right = False, Safe = True => Move: Move Right\n",
            "Scenario 3: Obstacle Left = False, Obstacle Right = True, Safe = True => Move: Move Left\n",
            "Scenario 4: Obstacle Left = True, Obstacle Right = True, Safe = True => Move: Stay Still\n",
            "Scenario 5: Obstacle Left = True, Obstacle Right = True, Safe = False => Move: No Move Possible\n"
          ]
        }
      ]
    },
    {
      "cell_type": "markdown",
      "source": [
        "\n",
        "# **Explanation**\n",
        "\n",
        "The AI agent operates within a defined scenario where it must navigate potential obstacles while considering its safety. The decision-making process is governed by a set of logical conditions that evaluate the presence of obstacles on both sides and the agent's safety status.\n",
        "\n",
        "Here’s a breakdown of how the agent makes its decisions:\n",
        "*   **No Obstacles and Safe**: When both sides are clear of obstacles, the agent\n",
        "prefers to move left. This choice is likely based on a predefined strategy to favor leftward movement when possible.\n",
        "*   **Obstacle on Left**: If there is an obstacle on the left but the right side is clear, the agent will move right. This decision ensures that the agent can continue to progress without hitting an obstacle.\n",
        "*   **Obstacle on Right**: Conversely, if there is an obstacle on the right and the left side is clear, the agent will move left. This ensures that the agent avoids obstacles while still making progress.\n",
        "*   **Both Sides Blocked but Safe**: If both sides are blocked but the agent is in a safe position, it chooses to stay still. This decision prevents the agent from making a potentially dangerous move.\n",
        "*   **Both Sides Blocked and Not Safe**: In the worst-case scenario, where both sides are blocked and the agent is not safe, it cannot make any move. This reflects a situation where the agent must wait for conditions to improve before taking action."
      ],
      "metadata": {
        "id": "2ecOqIVRnpgy"
      }
    },
    {
      "cell_type": "markdown",
      "source": [
        "# **Conclusion**\n",
        "The AI agent demonstrates a straightforward yet effective decision-making process based on logical evaluations of its environment. By systematically assessing the presence of obstacles and its safety, the agent can make informed choices that maximize its chances of progressing in the game while minimizing risks.\n",
        "\n",
        "This simple model highlights the importance of logic in AI decision-making and serves as a foundation for more complex agents that could incorporate additional factors such as dynamic environments, multiple objectives, or learning from past experiences.\n"
      ],
      "metadata": {
        "id": "aumjffwVo18K"
      }
    }
  ]
}