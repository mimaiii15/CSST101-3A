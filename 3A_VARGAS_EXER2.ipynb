{
  "nbformat": 4,
  "nbformat_minor": 0,
  "metadata": {
    "colab": {
      "provenance": []
    },
    "kernelspec": {
      "name": "python3",
      "display_name": "Python 3"
    },
    "language_info": {
      "name": "python"
    }
  },
  "cells": [
    {
      "cell_type": "markdown",
      "source": [
        "# **Assessment Task 1: Basic Probability Calculations**"
      ],
      "metadata": {
        "id": "HSSGpejvYeLw"
      }
    },
    {
      "cell_type": "markdown",
      "source": [
        "**Python Code**"
      ],
      "metadata": {
        "id": "K4Y2G45ld7hz"
      }
    },
    {
      "cell_type": "code",
      "execution_count": 34,
      "metadata": {
        "colab": {
          "base_uri": "https://localhost:8080/"
        },
        "id": "j7XaMCMvXrGi",
        "outputId": "df55039c-e791-4ea7-f28e-b3070090510b"
      },
      "outputs": [
        {
          "output_type": "stream",
          "name": "stdout",
          "text": [
            "Joint Probability: 0.12\n",
            "Marginal Probability: 0.58\n",
            "Conditional Probability: 0.6\n"
          ]
        }
      ],
      "source": [
        "def joint_probability(p_A, p_B):\n",
        "  return p_A * p_B\n",
        "\n",
        "def marginal_probability(p_A, p_B):\n",
        "  return p_A + p_B - joint_probability(p_A, p_B)\n",
        "\n",
        "def conditional_probability(p_B_given_A, p_A, p_B):\n",
        "  return (p_B_given_A * p_A) / p_B\n",
        "\n",
        "p_A = 0.3\n",
        "p_B = 0.4\n",
        "p_B_given_A = 0.8\n",
        "\n",
        "print(f\"Joint Probability: {joint_probability(p_A, p_B)}\")\n",
        "print(f\"Marginal Probability: {marginal_probability(p_A, p_B)}\")\n",
        "print(f\"Conditional Probability: {conditional_probability(p_B_given_A, p_A, p_B)}\")"
      ]
    },
    {
      "cell_type": "markdown",
      "source": [
        "**Interactive Question**\n",
        "\n",
        "Question: If the probability of event A is 0.3 and the probability of event B is 0.4,\n",
        "what is the joint probability of A and B assuming they are independent?\n"
      ],
      "metadata": {
        "id": "piQPEcXjeGT1"
      }
    },
    {
      "cell_type": "code",
      "source": [
        "result = joint_probability(0.3, 0.4)\n",
        "print(result)"
      ],
      "metadata": {
        "colab": {
          "base_uri": "https://localhost:8080/"
        },
        "id": "4b6N1aZBeYaE",
        "outputId": "861af2a7-8c5c-4a43-a0ec-f64c175a19f3"
      },
      "execution_count": 35,
      "outputs": [
        {
          "output_type": "stream",
          "name": "stdout",
          "text": [
            "0.12\n"
          ]
        }
      ]
    },
    {
      "cell_type": "markdown",
      "source": [
        "The formula used for joint probability assumes that events A and B are independent, meaning the occurrence of one does not affect the occurrence of the other. Thus, the joint probability is simply the product of their individual probabilities.\n",
        "If you run the code, you should find that the joint probability of A and B is 0.3 × 0.4 = 0.12."
      ],
      "metadata": {
        "id": "Up3xz0JzenWd"
      }
    },
    {
      "cell_type": "markdown",
      "source": [
        "# **Assessment Task 2: Bayesian Inference**"
      ],
      "metadata": {
        "id": "jN6pIcuHZD5J"
      }
    },
    {
      "cell_type": "markdown",
      "source": [
        "**Python Code**"
      ],
      "metadata": {
        "id": "DAwnmF1DgP9B"
      }
    },
    {
      "cell_type": "code",
      "source": [
        "def bayesian_inference(prior, likelihood_positive_given_disease, likehood_positive):\n",
        "  posterior = (likelihood_positive_given_disease * prior) / likelihood_positive\n",
        "  return posterior\n",
        "\n",
        "prior_disease = 0.01\n",
        "likelihood_positive_given_disease = 0.9\n",
        "likelihood_positive = 0.05\n",
        "\n",
        "posterior_disease = bayesian_inference(prior_disease, likelihood_positive_given_disease, likelihood_positive)\n",
        "print(f\"Posterior probability of disease given positive test: {posterior_disease}\")"
      ],
      "metadata": {
        "colab": {
          "base_uri": "https://localhost:8080/"
        },
        "id": "v1fjOH1mZFT_",
        "outputId": "cc0a256f-a3dc-46d8-ac1b-50d5eecfe06b"
      },
      "execution_count": 36,
      "outputs": [
        {
          "output_type": "stream",
          "name": "stdout",
          "text": [
            "Posterior probability of disease given positive test: 0.18000000000000002\n"
          ]
        }
      ]
    },
    {
      "cell_type": "markdown",
      "source": [
        "**Interactive Scenario**\n",
        "\n",
        "Scenario: A test for a disease has a 90% accuracy for positive results, and 5%\n",
        "of people without the disease test positive. If 1% of the population has the\n",
        "disease, what is the probability that someone who tested positive actually has\n",
        "the disease?"
      ],
      "metadata": {
        "id": "YkTspOn8gTNw"
      }
    },
    {
      "cell_type": "markdown",
      "source": [
        "This means that if someone tests positive for the disease, there is approximately a 18% chance that they actually have it, despite the high accuracy rate of the test. This illustrates how important it is to consider both prior probabilities and test characteristics when interpreting medical tests."
      ],
      "metadata": {
        "id": "KCUBgP9Hgkku"
      }
    },
    {
      "cell_type": "markdown",
      "source": [
        "# **Assessment Task 3: Decision-Making Under Uncertainty**\n"
      ],
      "metadata": {
        "id": "BaEgAcIiZIAX"
      }
    },
    {
      "cell_type": "markdown",
      "source": [
        "**Python Code**"
      ],
      "metadata": {
        "id": "jsdKHQkIr9yW"
      }
    },
    {
      "cell_type": "code",
      "source": [
        "import numpy as np\n",
        "\n",
        "def simulate_decision(num_simulation, p_success, reward_success, reward_failure):\n",
        "  outcomes = []\n",
        "  for _ in range(num_simulation):\n",
        "    if np.random.rand() < p_success:\n",
        "      outcomes.append(reward_success)\n",
        "    else:\n",
        "      outcomes.append(reward_failure)\n",
        "  return np.mean(outcomes)\n",
        "\n",
        "p_success = 0.7\n",
        "reward_success = 1000\n",
        "reward_failure = -500\n",
        "\n",
        "avarage_outcome = simulate_decision(1000, p_success, reward_success, reward_failure )\n",
        "print(f\"Expected value of decision: {avarage_outcome}\")"
      ],
      "metadata": {
        "colab": {
          "base_uri": "https://localhost:8080/"
        },
        "id": "RW2bvqfIZIVU",
        "outputId": "6c87f64b-3495-4a98-fc3e-c2218c67e4e1"
      },
      "execution_count": 37,
      "outputs": [
        {
          "output_type": "stream",
          "name": "stdout",
          "text": [
            "Expected value of decision: 566.5\n"
          ]
        }
      ]
    },
    {
      "cell_type": "code",
      "source": [
        "probabilities = [0.5, 0.6, 0.7, 0.8, 0.9]\n",
        "results = {}\n",
        "\n",
        "for p in probabilities:\n",
        "    average_outcome = simulate_decision(1000, p, reward_success, reward_failure)\n",
        "    results[p] = average_outcome\n",
        "    print(f\"Expected value of decision with p_success = {p}: {average_outcome}\")"
      ],
      "metadata": {
        "colab": {
          "base_uri": "https://localhost:8080/"
        },
        "id": "CSTtqGias7GC",
        "outputId": "8d4944db-6e28-4460-9d2d-0c886fa87137"
      },
      "execution_count": 38,
      "outputs": [
        {
          "output_type": "stream",
          "name": "stdout",
          "text": [
            "Expected value of decision with p_success = 0.5: 254.5\n",
            "Expected value of decision with p_success = 0.6: 380.5\n",
            "Expected value of decision with p_success = 0.7: 548.5\n",
            "Expected value of decision with p_success = 0.8: 701.5\n",
            "Expected value of decision with p_success = 0.9: 850.0\n"
          ]
        }
      ]
    },
    {
      "cell_type": "markdown",
      "source": [
        "Question: What is the average return after 1000 iterations? How does changing the\n",
        "probability affect the result?"
      ],
      "metadata": {
        "id": "oicC0ICpsq72"
      }
    },
    {
      "cell_type": "markdown",
      "source": [
        "After running the above code with different probabilities, you will observe how changing p_success impacts the expected value of your decision:\n",
        "\n",
        "* **Lower Probability** (e.g., 0.5): You may find that the average return is lower due to more frequent losses.\n",
        "\n",
        "* **Higher Probability** (e.g., 0.9): You should see an increase in average returns as successful outcomes become more likely."
      ],
      "metadata": {
        "id": "qvdJvC1CsuXx"
      }
    },
    {
      "cell_type": "markdown",
      "source": [
        "# **Assessment Task 4: Real-World Scenario**"
      ],
      "metadata": {
        "id": "qh68O3cYZbWP"
      }
    },
    {
      "cell_type": "code",
      "source": [
        "p_purchase_given_cart = 0.4\n",
        "p_cart = 0.3\n",
        "\n",
        "p_purchase = conditional_probability(p_purchase_given_cart, p_cart, 1)\n",
        "print(f\"Probability of purchase: {p_purchase}\")"
      ],
      "metadata": {
        "colab": {
          "base_uri": "https://localhost:8080/"
        },
        "id": "6hclK1hOZciA",
        "outputId": "97ce0db6-3d49-453c-96c0-7348542cfbc0"
      },
      "execution_count": 39,
      "outputs": [
        {
          "output_type": "stream",
          "name": "stdout",
          "text": [
            "Probability of purchase: 0.12\n"
          ]
        }
      ]
    },
    {
      "cell_type": "markdown",
      "source": [
        "# **Assessment Task 5: Probability Distributions Visualization**"
      ],
      "metadata": {
        "id": "9V6S54SlaHEn"
      }
    },
    {
      "cell_type": "code",
      "source": [
        "import numpy as np\n",
        "import matplotlib.pyplot as plt\n",
        "\n",
        "n_trials = 1000\n",
        "p_head = 0.5\n",
        "binomial_distribution = np.random.binomial(n=1, p=p_head, size=n_trials)\n",
        "\n",
        "plt.hist(binomial_distribution, bins=2)\n",
        "plt.title('Binomial Distribution (Coin Flips)')\n",
        "plt.show()"
      ],
      "metadata": {
        "colab": {
          "base_uri": "https://localhost:8080/",
          "height": 452
        },
        "id": "YVsGH1XTaG3o",
        "outputId": "1d500e43-ad3f-4295-db0a-cb45c42e15a3"
      },
      "execution_count": 40,
      "outputs": [
        {
          "output_type": "display_data",
          "data": {
            "text/plain": [
              "<Figure size 640x480 with 1 Axes>"
            ],
            "image/png": "[encoded data removed]"
          },
          "metadata": {}
        }
      ]
    }
  ]
}